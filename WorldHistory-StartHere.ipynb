{
 "cells": [
  {
   "cell_type": "markdown",
   "id": "b431c8a8-a4a0-47e4-88d2-a92e2854a335",
   "metadata": {},
   "source": [
    "# World History Timeline\n",
    "\n",
    "This project started with trying to learn about early Christian church history.  Ie. start a basic time of `events` that was extended to Judeo-Christian timelines.   The key was to see a subject (ie. Religion-Christianity) by viewing the events over a period of time.   \n",
    "\n",
    "## Timeline Tables\n",
    "\n",
    "A `timeline table` (.txt file) is a simple list of `event`s with each event containing:\n",
    "````\n",
    "Date  Prefix: Abstract_Text\n",
    "    - description line1\n",
    "    - description line2\n",
    "    -\n",
    "````\n",
    "\n",
    "With \n",
    "- `Date` be of the form:  ^<year>[-yearEnd] [BC|' ']\n",
    "    - the '^' signifies the start of aline\n",
    "- `Prefix` being a single word classification of the event, this can be optional in the `event` abstract\n",
    "\n",
    "The goal is NOT to build a full description of the events but to provide an abstract and short description. \n",
    "\n",
    "## Sources\n",
    "\n",
    "There are several sources that can be found from the internet. \n",
    "\n",
    "### Source: Timeline-all.txt\n",
    "\n",
    "This has been manually created by searching through the internet and listing `events` withiin a timeline. \n",
    "There is no guarantee that the events are correct other then it was sourced from some internet page. \n",
    "\n",
    "### Source: www.worldhistory.org \n",
    "\n",
    "(__NOTE__: This provides a wealth of history events but all of it is html descriptive pages.  Some NLP processing would be needing to transform this into a `timeline table`.)\n",
    "\n",
    "After creating the mechanism for building various timeline I stumbled on the [worldhistory.org](https://www.worldhistory.org/timeline/Taoism/_) and the following classifications.   Wow, how to mine all this data?\n",
    "\n",
    "- Arts & Culture\n",
    "- Cities & Buildings\n",
    "- Civilization & Science\n",
    "- Migration & Trade\n",
    "- Nature & Climate\n",
    "- Philosophy & Religion\n",
    "- Rulers & Politics\n",
    "- States & Territories\n",
    "- War(fare) & Battles\n"
   ]
  },
  {
   "cell_type": "code",
   "execution_count": null,
   "id": "8799a938-46df-469e-bf98-f31e6a0a764d",
   "metadata": {},
   "outputs": [],
   "source": []
  }
 ],
 "metadata": {
  "kernelspec": {
   "display_name": "Python 3 (ipykernel)",
   "language": "python",
   "name": "python3"
  },
  "language_info": {
   "codemirror_mode": {
    "name": "ipython",
    "version": 3
   },
   "file_extension": ".py",
   "mimetype": "text/x-python",
   "name": "python",
   "nbconvert_exporter": "python",
   "pygments_lexer": "ipython3",
   "version": "3.12.2"
  }
 },
 "nbformat": 4,
 "nbformat_minor": 5
}

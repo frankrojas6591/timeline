{
 "cells": [
  {
   "cell_type": "markdown",
   "id": "89a02e3e-0fd3-45f8-9129-d639a8c59935",
   "metadata": {},
   "source": [
    "# Build & Display a graph of timeline object\n",
    "\n",
    "## Issue: timeline nodes do not stop moving\n",
    "\n",
    "Refere to [pyvis keeps moving](https://stackoverflow.com/questions/68117561/pyvis-network-keeps-on-moving)\n",
    "\n",
    "\n",
    "## `physics` \n",
    "\n",
    "Is the use of physical principles and models to guide the layout and visualization of graphs, or to simulate the dynamics of networked systems. It's about how physical forces, like `attraction` and `repulsion`, can be applied to create visually appealing and informative network representations, or how network interactions can be modeled using physics-based equations. \n",
    "\n",
    "In essence, \"physics in network graphing\" involves using physical principles to create visually informative network representations and to simulate the dynamics of networked systems using equations and models that mirror the behavior of physical systems. \n",
    "\n",
    "### References:\n",
    "1. [barnes_hut doc](https://pyvis.readthedocs.io/en/latest/documentation.html)\n",
    "\n",
    "\n",
    "### barnes_hut function\n",
    "- gravity (int) – The more negative the gravity value is, the stronger the repulsion is.\n",
    "- central_gravity (float) – The gravity attractor to pull the entire network to the center.\n",
    "- spring_length (int) – The rest length of the edges\n",
    "- spring_strength (float) – The strong the edges springs are\n",
    "- damping (float) – A value ranging from 0 to 1 of how much of the velocity from the previous physics simulation iteration carries over to the next iteration.\n",
    "- overlap (float) – When larger than 0, the size of the node is taken into account. The distance will be calculated from the radius of the encompassing circle of the node for both the gravity model. Value 1 is maximum overlap avoidance."
   ]
  },
  {
   "cell_type": "markdown",
   "id": "6a9e07fb-72f3-4c76-b026-36c03e47434e",
   "metadata": {},
   "source": [
    "## Graph a Timeline"
   ]
  },
  {
   "cell_type": "code",
   "execution_count": 1,
   "id": "d078f830-3cfe-4066-839f-29788b925373",
   "metadata": {
    "scrolled": true
   },
   "outputs": [],
   "source": [
    "# Load & create timeline objects\n",
    "from timelineGraph import timelineGraph\n",
    "from timeline import events\n",
    "from IPython.display import display_markdown as display\n",
    "from colors import graphColors\n",
    "\n"
   ]
  },
  {
   "cell_type": "code",
   "execution_count": 6,
   "id": "a5050ee3-231c-4a30-b215-efa351701b66",
   "metadata": {},
   "outputs": [
    {
     "name": "stdout",
     "output_type": "stream",
     "text": [
      "Use empty nx.Graph\n",
      "Empty timeline created\n",
      "events ALL 335 0 0\n",
      "Empty timeline created\n",
      "Use empty nx.Graph\n",
      "Empty timeline created\n"
     ]
    }
   ],
   "source": [
    "def drawTimeline():\n",
    "    '''\n",
    "    Create graph and draw pyvis interactive graph\n",
    "    \n",
    "    N = Network(height='800px', width='100%', \n",
    "                bgcolor='#ffffff',font_color='black',\n",
    "                notebook = True, \n",
    "    '''\n",
    "    optDict = dict(directed=False)\n",
    "    tlG = timelineGraph(timeline=events(FN = 'data/Timeline-all.txt'),\n",
    "                        options = optDict)\n",
    "    print(\"events ALL\", len(tlG.evDict), len(tlG.pvG.nodes), len(tlG.pvG.edges))\n",
    "    \n",
    "    '''\n",
    "    barnes_hut(gravity=-80000, central_gravity=0.3, spring_length=250, spring_strength=0.001, damping=0.09, overlap=0)\n",
    "    \n",
    "    '''\n",
    "    #this line effects the physics of the html File\n",
    "    #tlG.pvG.barnes_hut(spring_strength=0.006)\n",
    "    #tlG.pvG.barnes_hut(**{\"gravitationalConstant\": -500,\n",
    "    #                      \"springLength\": 150 })\n",
    "    tlG.pvG.barnes_hut(gravity=-80000,\n",
    "                       central_gravity=0.3,\n",
    "                       spring_strength=0.0001,\n",
    "                       overlap=0)\n",
    "    \n",
    "    # Import timeline into network \n",
    "    tlG.importGraph()\n",
    "    \n",
    "    if False:\n",
    "        tlG.pvG.toggle_physics(False)\n",
    "        tlG.pvG.toggle_physics(True)\n",
    "    #tlG.pvG.show_buttons(filter_=True)\n",
    "    tlG.pvG.show_buttons(filter_=['physics', 'nodes', 'edges']) # Specify buttons to show\n",
    "    return tlG\n",
    "def drawLegend(tl):\n",
    "    '''\n",
    "    Display Legend of colors\n",
    "    '''\n",
    "    tlG = timelineGraph(timeline=events(FN = None), height = \"60px\")\n",
    "    gc = graphColors()\n",
    "    cmDict = tl.cg.list2cmDict('rainbow',tl.prfxDict.keys())\n",
    "    tlG.addLegend(tlG.pvG, cmDict, x=-400, y=0, xstep=100, ystep=0)\n",
    "    return tlG\n",
    "tlG = drawTimeline()\n",
    "tlL = drawLegend(tlG)"
   ]
  },
  {
   "cell_type": "code",
   "execution_count": 7,
   "id": "949024a0-5909-4e68-a59e-1cd0454ddcfc",
   "metadata": {},
   "outputs": [
    {
     "name": "stdout",
     "output_type": "stream",
     "text": [
      "data/graphShow.html\n"
     ]
    },
    {
     "data": {
      "text/html": [
       "\n",
       "        <iframe\n",
       "            width=\"100%\"\n",
       "            height=\"60px\"\n",
       "            src=\"data/graphShow.html\"\n",
       "            frameborder=\"0\"\n",
       "            allowfullscreen\n",
       "            \n",
       "        ></iframe>\n",
       "        "
      ],
      "text/plain": [
       "<IPython.lib.display.IFrame at 0x14818ab70>"
      ]
     },
     "metadata": {},
     "output_type": "display_data"
    }
   ],
   "source": [
    "display(\"---- Legend ----\")\n",
    "tlL.draw()"
   ]
  },
  {
   "cell_type": "code",
   "execution_count": 8,
   "id": "bdf36b0f-51e6-4500-a75d-732951e776f1",
   "metadata": {},
   "outputs": [
    {
     "name": "stdout",
     "output_type": "stream",
     "text": [
      "data/graphShow.html\n"
     ]
    },
    {
     "data": {
      "text/html": [
       "\n",
       "        <iframe\n",
       "            width=\"100%\"\n",
       "            height=\"500px\"\n",
       "            src=\"data/graphShow.html\"\n",
       "            frameborder=\"0\"\n",
       "            allowfullscreen\n",
       "            \n",
       "        ></iframe>\n",
       "        "
      ],
      "text/plain": [
       "<IPython.lib.display.IFrame at 0x149315520>"
      ]
     },
     "metadata": {},
     "output_type": "display_data"
    }
   ],
   "source": [
    "tlG.draw()"
   ]
  },
  {
   "cell_type": "code",
   "execution_count": null,
   "id": "aed3bab0-f59d-4759-8c08-fd0d1a2b61d1",
   "metadata": {},
   "outputs": [],
   "source": []
  }
 ],
 "metadata": {
  "kernelspec": {
   "display_name": "Python 3 (ipykernel)",
   "language": "python",
   "name": "python3"
  },
  "language_info": {
   "codemirror_mode": {
    "name": "ipython",
    "version": 3
   },
   "file_extension": ".py",
   "mimetype": "text/x-python",
   "name": "python",
   "nbconvert_exporter": "python",
   "pygments_lexer": "ipython3",
   "version": "3.12.2"
  }
 },
 "nbformat": 4,
 "nbformat_minor": 5
}

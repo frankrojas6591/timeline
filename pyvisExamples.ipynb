{
 "cells": [
  {
   "cell_type": "markdown",
   "id": "4834e957-b826-4a8f-8bdc-8d43fc1bf36d",
   "metadata": {},
   "source": [
    "# pyvis Examples\n",
    "\n",
    "This notebook provides basic example for network graphing using\n",
    "\n",
    "- pyvis : python visualization and interactive graphing\n",
    "- nx : `networkx`\n",
    "\n",
    "## Guideline\n",
    "\n",
    "#### 1. Initialize class\n",
    "#### 2. Build graph within nx\n",
    "#### 3. add nx graph into pyvis (G.from_nx)"
   ]
  },
  {
   "cell_type": "code",
   "execution_count": 45,
   "id": "11ed35c9-6f1f-4580-9322-8c529d7ca5cc",
   "metadata": {
    "scrolled": true
   },
   "outputs": [],
   "source": [
    "from pyvis.network import Network\n",
    "from pyvis import network as net\n",
    "import networkx as nx\n",
    "import matplotlib.pyplot as plt\n",
    "\n",
    "# Needed to show graph.html on jupyter frame\n",
    "from IPython.display import display\n",
    "\n",
    "class graphVis(object):\n",
    "    def __init__(self, **kwargs):\n",
    "        # Initialize pyvis Graph network\n",
    "\n",
    "        w = kwargs.get('width',\"100%\")\n",
    "        h = kwargs.get('height', \"500px\")\n",
    "        \n",
    "        #net = Network(height=\"750px\", width=\"100%\", bgcolor=\"#222222\", font_color=\"white\")\n",
    "        self.pvG = net.Network(height=h, width=w, notebook=True, cdn_resources='in_line')\n",
    "        self._initNX(**kwargs)\n",
    "\n",
    "    def _initNX(self, **kwargs):\n",
    "        graphNum = kwargs.get('graphNum', 10)\n",
    "        #g = nx.cycle_graph(10)\n",
    "        #g = nx.complete_graph(5)\n",
    "        \n",
    "        g = kwargs.get('nxGraph', 'Graph')\n",
    "        if g == 'cycle_graph' : self.G = nx.cycle_graph(graphNum)\n",
    "        elif g == 'complete_graph' : self.G = nx.complete_graph(graphNum)\n",
    "        else:\n",
    "            # Empty Graph\n",
    "            print(\"Use empty nx.Graph\")\n",
    "            self.G = nx.Graph()\n",
    "\n",
    "    def draw(self, **kwargs):\n",
    "        '''\n",
    "        Default is to use pyvis to draw\n",
    "        - import network from nx (self.g)\n",
    "        '''\n",
    "        # import NX network\n",
    "        if len(self.G.nodes) > 0 : \n",
    "            print(\"draw: Import NX network\")\n",
    "            self.pvG.from_nx(self.G)\n",
    "        \n",
    "        # Get HTML filename\n",
    "        gFN = self.FN(**kwargs)\n",
    "        \n",
    "        # Generate html with jscript interaction\n",
    "        display(self.pvG.show(gFN))\n",
    "        \n",
    "        #display(IFrame(src=gFN, width=w, height=h))\n",
    "        \n",
    "\n",
    "    def FN(self, **kwargs):\n",
    "        return kwargs.get('FN', \"data/graphShow.html\")\n",
    "\n",
    "    def nx(self):\n",
    "        return self.G\n",
    "\n",
    "    def nxDraw(self, **kwargs):\n",
    "        w = kwargs.get('width',10)\n",
    "        h = kwargs.get('height',8)\n",
    "        plt.figure(3,figsize=(w,h)) \n",
    "        nx.draw(self.G, with_labels=True)\n",
    "        plt.show()\n",
    "        \n",
    "        \n",
    "\n",
    "#gv.G.show(\"graphShow.html\")"
   ]
  },
  {
   "cell_type": "markdown",
   "id": "6d5e54c9-49ee-4154-8c68-7aee6bc3f532",
   "metadata": {},
   "source": [
    "## Example 1 - Draw with pyvis"
   ]
  },
  {
   "cell_type": "code",
   "execution_count": 62,
   "id": "5512160e-216b-4927-8eee-c06914b868a8",
   "metadata": {
    "scrolled": true
   },
   "outputs": [
    {
     "name": "stdout",
     "output_type": "stream",
     "text": [
      "Use empty nx.Graph\n",
      "data/graphShow.html\n"
     ]
    },
    {
     "data": {
      "text/html": [
       "\n",
       "        <iframe\n",
       "            width=\"100%\"\n",
       "            height=\"400px\"\n",
       "            src=\"data/graphShow.html\"\n",
       "            frameborder=\"0\"\n",
       "            allowfullscreen\n",
       "            \n",
       "        ></iframe>\n",
       "        "
      ],
      "text/plain": [
       "<IPython.lib.display.IFrame at 0x1083be240>"
      ]
     },
     "metadata": {},
     "output_type": "display_data"
    }
   ],
   "source": [
    "gv = graphVis(height='400px', width='100%')\n",
    "gv.pvG.add_nodes([1,2,3], value=[10, 100, 400],\n",
    "                         title=['I am node 1', 'node 2 here', 'and im node 3'],\n",
    "                         x=[21.4, 54.2, 11.2],\n",
    "                         y=[100.2, 23.54, 32.1],\n",
    "                         label=['NODE 1', 'NODE 2', 'NODE 3'],\n",
    "                         color=['#00ff1e', '#162347', '#dd4b39'])\n",
    "gv.draw()"
   ]
  },
  {
   "cell_type": "code",
   "execution_count": 64,
   "id": "85b50061-825c-4a51-be87-80af1e389619",
   "metadata": {},
   "outputs": [
    {
     "data": {
      "text/plain": [
       "[1, 2, 3]"
      ]
     },
     "execution_count": 64,
     "metadata": {},
     "output_type": "execute_result"
    }
   ],
   "source": [
    "[d['id'] for d in gv.pvG.nodes]\n"
   ]
  },
  {
   "cell_type": "markdown",
   "id": "fc65aac3-e841-42e0-ac94-b189d576e6c1",
   "metadata": {},
   "source": [
    "## Example 2 - Basic nx draw"
   ]
  },
  {
   "cell_type": "code",
   "execution_count": 47,
   "id": "a1bb4d25-6d11-4e67-82c5-2536e78c2554",
   "metadata": {},
   "outputs": [
    {
     "name": "stdout",
     "output_type": "stream",
     "text": [
      "Use empty nx.Graph\n"
     ]
    },
    {
     "data": {
      "image/png": "[encoded data removed]",
      "text/plain": [
       "<Figure size 400x300 with 1 Axes>"
      ]
     },
     "metadata": {},
     "output_type": "display_data"
    }
   ],
   "source": [
    "gv = graphVis()\n",
    "gv.G.add_nodes_from([1,2,3], value=[10, 100, 400],\n",
    "                         title=['I am node 1', 'node 2 here', 'and im node 3'],\n",
    "                         x=[21.4, 54.2, 11.2],\n",
    "                         y=[100.2, 23.54, 32.1],\n",
    "                         label=['NODE 1', 'NODE 2', 'NODE 3'],\n",
    "                         color=['#00ff1e', '#162347', '#dd4b39'])\n",
    "gv.nxDraw(width=4, height=3)"
   ]
  },
  {
   "cell_type": "code",
   "execution_count": null,
   "id": "748f2f6f-d293-4b70-b7aa-f67400ac6fa2",
   "metadata": {},
   "outputs": [],
   "source": []
  },
  {
   "cell_type": "code",
   "execution_count": null,
   "id": "0c16a60d-150f-4a00-b80d-5d8e00ded1c3",
   "metadata": {},
   "outputs": [],
   "source": [
    "gv = graphVis()\n",
    "gv.G.add_nodes_from([1,2,3], value=[10, 100, 400],\n",
    "                         title=['I am node 1', 'node 2 here', 'and im node 3'],\n",
    "                         x=[21.4, 54.2, 11.2],\n",
    "                         y=[100.2, 23.54, 32.1],\n",
    "                         label=['NODE 1', 'NODE 2', 'NODE 3'],\n",
    "                         color=['#00ff1e', '#162347', '#dd4b39'])\n",
    "gv.nxDraw(width=4, height=3)"
   ]
  }
 ],
 "metadata": {
  "kernelspec": {
   "display_name": "Python 3 (ipykernel)",
   "language": "python",
   "name": "python3"
  },
  "language_info": {
   "codemirror_mode": {
    "name": "ipython",
    "version": 3
   },
   "file_extension": ".py",
   "mimetype": "text/x-python",
   "name": "python",
   "nbconvert_exporter": "python",
   "pygments_lexer": "ipython3",
   "version": "3.12.2"
  }
 },
 "nbformat": 4,
 "nbformat_minor": 5
}

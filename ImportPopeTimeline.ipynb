{
 "cells": [
  {
   "cell_type": "markdown",
   "id": "8657e028-195b-4717-9e73-a44550d38d67",
   "metadata": {},
   "source": [
    "# Import Timeline of Popes\n",
    "\n",
    "- import timeline from url\n",
    "- wrangle the tables to write Timeline-Popes.txt"
   ]
  },
  {
   "cell_type": "code",
   "execution_count": 1,
   "id": "201a01fa-7075-4296-bfbd-2553465e4339",
   "metadata": {},
   "outputs": [],
   "source": [
    "import re\n",
    "import pandas as pd\n",
    "'''\n",
    "Tbl 0-20 - table of Popes\n",
    "Tbl 21 - Religious Order\n",
    "Tbl 22 - Ages of Popes\n",
    "'''\n",
    "FNPopes = \"Timeline-Popes.txt\"\n",
    "def importPopes(FN):\n",
    "    urlPope = 'https://en.wikipedia.org/wiki/List_of_popes'\n",
    "    tList = pd.read_html(urlPope)\n",
    "    \n",
    "    print(\"Tables\", len(tList))\n",
    "    df = tList[1]\n",
    "    \n",
    "    with open(FN,'w') as fio:\n",
    "        fio.write(f\"# Timeline Popes - {urlPope}\\n\\n\")\n",
    "        for df in tList[0:21]:\n",
    "            for n,r in df.iterrows():\n",
    "                tx = r.Pontificate\n",
    "                \n",
    "                l = tx.split('–')\n",
    "                \n",
    "                y1 = l[0].strip().split()[-1]\n",
    "                y1=y1.split('/')[0]\n",
    "                \n",
    "                y2 = l[1].split('(')[0].strip().split()[-1]\n",
    "                y2 = y2.split('/')[0]\n",
    "    \n",
    "                try: \n",
    "                    d = int(y2)\n",
    "                    period = f\"{y1}-{y2}\"\n",
    "                except:\n",
    "                    period = y1\n",
    "        \n",
    "                nm = r['Name: English · Latin']\n",
    "                notes = r.Notes\n",
    "                fio.write(f\"{period} Pope {nm}\\n\\t{notes}\\n\")\n",
    "\n",
    "# Set True to save file; not some edits have been done. \n",
    "if False:\n",
    "    importPopes(FNPopes)\n",
    "\n",
    "        "
   ]
  },
  {
   "cell_type": "code",
   "execution_count": 2,
   "id": "f28428d1-822c-45e5-acd6-4e09342e498c",
   "metadata": {},
   "outputs": [
    {
     "name": "stdout",
     "output_type": "stream",
     "text": [
      "# Timeline Popes - https://en.wikipedia.org/wiki/List_of_popes\n",
      "\n",
      "30-64 Pope St Peter PETRVS\n",
      "\tBorn Shimon, son of Yonah. A Jewish peregrinus, free provincial subject of the Roman Empire who was not a Roman citizen. Feast day (Feast of Saints Peter and Paul) 29 June. Apostle of Jesus. According to Catholic tradition, he received the keys of the Kingdom of Heaven (Matthew 16:18–19). The Catholic Church recognizes him as the first bishop of Rome appointed by Jesus and therefore the first pope. Also revered as saint in Eastern Christianity, with a feast day of 29 June.[6] St. Peter's Basilica in Vatican City is named after him.\n",
      "64-76 Pope St Linus LINVS\n",
      "\tFirst Roman pope. Roman citizen, born in Italia, the homeland of the ancient Romans.[birth 3][7] Feast day 23 September. Also revered as a saint in Eastern Christianity, with a feast day of 7 June. Possibly mentioned in the New Testament (Second Epistle to Timothy 4:21).[8]\n",
      "76-88 Pope St Anacletus ANACLETVS\n",
      "\tFirst Greek pope. A peregrinus, f\n",
      "...\n",
      "009). First pope to renounce the papacy since Gregory XII (1415); first to do so on his own initiative since Celestine V (1294),[43] becoming pope emeritus.[44] Died on 31 December 2022, aged 95;[45] longest-lived pope on record.\n",
      "2013-2025 Pope Francis FRANCISCVS\n",
      "\tMotto: Miserando atque eligendo (\"By having mercy and by choosing\")[46] Argentine citizen. First pope born outside Europe since Gregory III (731–741) and the first from the Americas; first pope from Argentina, first from South America and the first from the Southern Hemisphere. First pope from a religious institute since Gregory XVI (1831–1846); first Jesuit pope. First pope to use a new and non-composed papal name since Lando (913–914). Issued the encyclical Laudato si' (2015), condemning global warming and irresponsible economic development. Facilitated the Cuban thaw (2015–2017). Eliminated the European majority of cardinals. First pope to visit and celebrate Mass on the Arabian Peninsula.[47] Restricted the celebration of the Tridentine Mass (2021). Second-oldest verified pope in office after Leo XIII.\n",
      "2025 Pope Leo XIV LEO Quartus Decimus\n",
      "\tMotto: In illo Uno unum (\"In the One, [we are] one\") Dual American and Peruvian citizen; first pope born in the United States, first from North America, and the second from the Americas.[48][49] Second pope from an English-speaking country; the first since Adrian IV (1154–1159).[50] First pope to be born after World War II and during the Cold War.[51] First Augustinian pope.\n",
      "\n"
     ]
    }
   ],
   "source": [
    "with open(FNPopes, 'r') as fio:\n",
    "    tx = fio.read()\n",
    "print(tx[0:1000])\n",
    "print(\"...\")\n",
    "print(tx[-1500:])"
   ]
  },
  {
   "cell_type": "code",
   "execution_count": null,
   "id": "78ca6131-d71d-40aa-8200-04f6a0da2578",
   "metadata": {},
   "outputs": [],
   "source": []
  }
 ],
 "metadata": {
  "kernelspec": {
   "display_name": "Python 3 (ipykernel)",
   "language": "python",
   "name": "python3"
  },
  "language_info": {
   "codemirror_mode": {
    "name": "ipython",
    "version": 3
   },
   "file_extension": ".py",
   "mimetype": "text/x-python",
   "name": "python",
   "nbconvert_exporter": "python",
   "pygments_lexer": "ipython3",
   "version": "3.12.2"
  }
 },
 "nbformat": 4,
 "nbformat_minor": 5
}
